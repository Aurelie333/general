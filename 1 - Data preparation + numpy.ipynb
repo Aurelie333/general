{
 "cells": [
  {
   "cell_type": "markdown",
   "id": "081a9e09",
   "metadata": {},
   "source": [
    "# Dataframe from excel or numpy matrix"
   ]
  },
  {
   "cell_type": "code",
   "execution_count": 1,
   "id": "4eab300e",
   "metadata": {},
   "outputs": [],
   "source": [
    "# import excel file OR\n",
    "import pandas as pd\n",
    "data_frame= pd.read_excel(\"Grades.xlsx\")"
   ]
  },
  {
   "cell_type": "code",
   "execution_count": 2,
   "id": "5c3d11b8",
   "metadata": {},
   "outputs": [],
   "source": [
    "#convert numpy into dataframe\n",
    "import numpy as np\n",
    "import pandas as pd\n",
    "\n",
    "my_array = np.array([[11,22,33],[44,55,66]])\n",
    "\n",
    "df = pd.DataFrame(my_array, columns = ['Column_A','Column_B','Column_C'])"
   ]
  },
  {
   "cell_type": "code",
   "execution_count": null,
   "id": "6f14b626",
   "metadata": {},
   "outputs": [],
   "source": [
    "# convert sklearn dataset into pandas datafram\n",
    "from sklearn.datasets import load_breast_cancer\n",
    "dataset = load_breast_cancer(as_frame=True)\n",
    "#Converting into dataframe\n",
    "df = pd.DataFrame(data=dataset.data, columns=dataset.feature_names)\n",
    "df.head()"
   ]
  },
  {
   "cell_type": "markdown",
   "id": "3a1e9e3d",
   "metadata": {},
   "source": [
    "# Preparing data\n",
    "Delete columns if not necessary with goals, if lot of NAs, if non-comparable values.\n",
    "\n",
    "On hot encode when names of countries for eg\n",
    "\n",
    "Keep 1 column when many of the same info\n",
    "\n",
    "Normalize quantities"
   ]
  },
  {
   "cell_type": "markdown",
   "id": "319f5f29",
   "metadata": {},
   "source": [
    "### Inspecting data"
   ]
  },
  {
   "cell_type": "code",
   "execution_count": 9,
   "id": "30129954",
   "metadata": {},
   "outputs": [
    {
     "data": {
      "text/html": [
       "<div>\n",
       "<style scoped>\n",
       "    .dataframe tbody tr th:only-of-type {\n",
       "        vertical-align: middle;\n",
       "    }\n",
       "\n",
       "    .dataframe tbody tr th {\n",
       "        vertical-align: top;\n",
       "    }\n",
       "\n",
       "    .dataframe thead th {\n",
       "        text-align: right;\n",
       "    }\n",
       "</style>\n",
       "<table border=\"1\" class=\"dataframe\">\n",
       "  <thead>\n",
       "    <tr style=\"text-align: right;\">\n",
       "      <th></th>\n",
       "      <th>Unnamed: 0</th>\n",
       "      <th>Grades</th>\n",
       "      <th>Credits</th>\n",
       "    </tr>\n",
       "  </thead>\n",
       "  <tbody>\n",
       "    <tr>\n",
       "      <th>count</th>\n",
       "      <td>0.0</td>\n",
       "      <td>18.000000</td>\n",
       "      <td>18.000000</td>\n",
       "    </tr>\n",
       "    <tr>\n",
       "      <th>mean</th>\n",
       "      <td>NaN</td>\n",
       "      <td>67.444444</td>\n",
       "      <td>5.333333</td>\n",
       "    </tr>\n",
       "    <tr>\n",
       "      <th>std</th>\n",
       "      <td>NaN</td>\n",
       "      <td>24.886146</td>\n",
       "      <td>0.766965</td>\n",
       "    </tr>\n",
       "    <tr>\n",
       "      <th>min</th>\n",
       "      <td>NaN</td>\n",
       "      <td>22.000000</td>\n",
       "      <td>4.000000</td>\n",
       "    </tr>\n",
       "    <tr>\n",
       "      <th>25%</th>\n",
       "      <td>NaN</td>\n",
       "      <td>47.250000</td>\n",
       "      <td>5.000000</td>\n",
       "    </tr>\n",
       "    <tr>\n",
       "      <th>50%</th>\n",
       "      <td>NaN</td>\n",
       "      <td>73.500000</td>\n",
       "      <td>5.500000</td>\n",
       "    </tr>\n",
       "    <tr>\n",
       "      <th>75%</th>\n",
       "      <td>NaN</td>\n",
       "      <td>90.000000</td>\n",
       "      <td>6.000000</td>\n",
       "    </tr>\n",
       "    <tr>\n",
       "      <th>max</th>\n",
       "      <td>NaN</td>\n",
       "      <td>99.000000</td>\n",
       "      <td>6.000000</td>\n",
       "    </tr>\n",
       "  </tbody>\n",
       "</table>\n",
       "</div>"
      ],
      "text/plain": [
       "       Unnamed: 0     Grades    Credits\n",
       "count         0.0  18.000000  18.000000\n",
       "mean          NaN  67.444444   5.333333\n",
       "std           NaN  24.886146   0.766965\n",
       "min           NaN  22.000000   4.000000\n",
       "25%           NaN  47.250000   5.000000\n",
       "50%           NaN  73.500000   5.500000\n",
       "75%           NaN  90.000000   6.000000\n",
       "max           NaN  99.000000   6.000000"
      ]
     },
     "execution_count": 9,
     "metadata": {},
     "output_type": "execute_result"
    }
   ],
   "source": [
    "data_frame.describe()# gives statistical vue of data"
   ]
  },
  {
   "cell_type": "code",
   "execution_count": 7,
   "id": "43913c35",
   "metadata": {},
   "outputs": [
    {
     "data": {
      "text/html": [
       "<div>\n",
       "<style scoped>\n",
       "    .dataframe tbody tr th:only-of-type {\n",
       "        vertical-align: middle;\n",
       "    }\n",
       "\n",
       "    .dataframe tbody tr th {\n",
       "        vertical-align: top;\n",
       "    }\n",
       "\n",
       "    .dataframe thead th {\n",
       "        text-align: right;\n",
       "    }\n",
       "</style>\n",
       "<table border=\"1\" class=\"dataframe\">\n",
       "  <thead>\n",
       "    <tr style=\"text-align: right;\">\n",
       "      <th></th>\n",
       "      <th>Unnamed: 0</th>\n",
       "      <th>Name</th>\n",
       "      <th>Class</th>\n",
       "      <th>Lectures</th>\n",
       "      <th>Grades</th>\n",
       "      <th>Credits</th>\n",
       "      <th>Retake</th>\n",
       "    </tr>\n",
       "  </thead>\n",
       "  <tbody>\n",
       "    <tr>\n",
       "      <th>0</th>\n",
       "      <td>NaN</td>\n",
       "      <td>Benjamin</td>\n",
       "      <td>A</td>\n",
       "      <td>Mathematics</td>\n",
       "      <td>90</td>\n",
       "      <td>6</td>\n",
       "      <td>No</td>\n",
       "    </tr>\n",
       "    <tr>\n",
       "      <th>1</th>\n",
       "      <td>NaN</td>\n",
       "      <td>Benjamin</td>\n",
       "      <td>A</td>\n",
       "      <td>Chemistry</td>\n",
       "      <td>54</td>\n",
       "      <td>6</td>\n",
       "      <td>No</td>\n",
       "    </tr>\n",
       "    <tr>\n",
       "      <th>2</th>\n",
       "      <td>NaN</td>\n",
       "      <td>Benjamin</td>\n",
       "      <td>A</td>\n",
       "      <td>Physics</td>\n",
       "      <td>77</td>\n",
       "      <td>6</td>\n",
       "      <td>No</td>\n",
       "    </tr>\n",
       "    <tr>\n",
       "      <th>3</th>\n",
       "      <td>NaN</td>\n",
       "      <td>Benjamin</td>\n",
       "      <td>A</td>\n",
       "      <td>History</td>\n",
       "      <td>22</td>\n",
       "      <td>5</td>\n",
       "      <td>Yes</td>\n",
       "    </tr>\n",
       "    <tr>\n",
       "      <th>4</th>\n",
       "      <td>NaN</td>\n",
       "      <td>Benjamin</td>\n",
       "      <td>A</td>\n",
       "      <td>Geography</td>\n",
       "      <td>25</td>\n",
       "      <td>5</td>\n",
       "      <td>Yes</td>\n",
       "    </tr>\n",
       "  </tbody>\n",
       "</table>\n",
       "</div>"
      ],
      "text/plain": [
       "   Unnamed: 0      Name Class     Lectures  Grades  Credits Retake\n",
       "0         NaN  Benjamin     A  Mathematics      90        6     No\n",
       "1         NaN  Benjamin     A    Chemistry      54        6     No\n",
       "2         NaN  Benjamin     A      Physics      77        6     No\n",
       "3         NaN  Benjamin     A      History      22        5    Yes\n",
       "4         NaN  Benjamin     A    Geography      25        5    Yes"
      ]
     },
     "execution_count": 7,
     "metadata": {},
     "output_type": "execute_result"
    }
   ],
   "source": [
    "data_frame.head(5)#first 5 rows of the data"
   ]
  },
  {
   "cell_type": "code",
   "execution_count": 8,
   "id": "be1496fd",
   "metadata": {},
   "outputs": [
    {
     "data": {
      "text/html": [
       "<div>\n",
       "<style scoped>\n",
       "    .dataframe tbody tr th:only-of-type {\n",
       "        vertical-align: middle;\n",
       "    }\n",
       "\n",
       "    .dataframe tbody tr th {\n",
       "        vertical-align: top;\n",
       "    }\n",
       "\n",
       "    .dataframe thead th {\n",
       "        text-align: right;\n",
       "    }\n",
       "</style>\n",
       "<table border=\"1\" class=\"dataframe\">\n",
       "  <thead>\n",
       "    <tr style=\"text-align: right;\">\n",
       "      <th></th>\n",
       "      <th>Unnamed: 0</th>\n",
       "      <th>Name</th>\n",
       "      <th>Class</th>\n",
       "      <th>Lectures</th>\n",
       "      <th>Grades</th>\n",
       "      <th>Credits</th>\n",
       "      <th>Retake</th>\n",
       "    </tr>\n",
       "  </thead>\n",
       "  <tbody>\n",
       "    <tr>\n",
       "      <th>13</th>\n",
       "      <td>NaN</td>\n",
       "      <td>Toni</td>\n",
       "      <td>C</td>\n",
       "      <td>Chemistry</td>\n",
       "      <td>44</td>\n",
       "      <td>6</td>\n",
       "      <td>Yes</td>\n",
       "    </tr>\n",
       "    <tr>\n",
       "      <th>14</th>\n",
       "      <td>NaN</td>\n",
       "      <td>Toni</td>\n",
       "      <td>C</td>\n",
       "      <td>Physics</td>\n",
       "      <td>56</td>\n",
       "      <td>6</td>\n",
       "      <td>No</td>\n",
       "    </tr>\n",
       "    <tr>\n",
       "      <th>15</th>\n",
       "      <td>NaN</td>\n",
       "      <td>Toni</td>\n",
       "      <td>C</td>\n",
       "      <td>History</td>\n",
       "      <td>77</td>\n",
       "      <td>5</td>\n",
       "      <td>No</td>\n",
       "    </tr>\n",
       "    <tr>\n",
       "      <th>16</th>\n",
       "      <td>NaN</td>\n",
       "      <td>Toni</td>\n",
       "      <td>C</td>\n",
       "      <td>Geography</td>\n",
       "      <td>35</td>\n",
       "      <td>5</td>\n",
       "      <td>Yes</td>\n",
       "    </tr>\n",
       "    <tr>\n",
       "      <th>17</th>\n",
       "      <td>NaN</td>\n",
       "      <td>Toni</td>\n",
       "      <td>C</td>\n",
       "      <td>German</td>\n",
       "      <td>99</td>\n",
       "      <td>4</td>\n",
       "      <td>No</td>\n",
       "    </tr>\n",
       "  </tbody>\n",
       "</table>\n",
       "</div>"
      ],
      "text/plain": [
       "    Unnamed: 0  Name Class   Lectures  Grades  Credits Retake\n",
       "13         NaN  Toni     C  Chemistry      44        6    Yes\n",
       "14         NaN  Toni     C    Physics      56        6     No\n",
       "15         NaN  Toni     C    History      77        5     No\n",
       "16         NaN  Toni     C  Geography      35        5    Yes\n",
       "17         NaN  Toni     C     German      99        4     No"
      ]
     },
     "execution_count": 8,
     "metadata": {},
     "output_type": "execute_result"
    }
   ],
   "source": [
    "data_frame.tail(5)#last five rows"
   ]
  },
  {
   "cell_type": "code",
   "execution_count": 10,
   "id": "d632d51a",
   "metadata": {},
   "outputs": [
    {
     "data": {
      "text/plain": [
       "(18, 7)"
      ]
     },
     "execution_count": 10,
     "metadata": {},
     "output_type": "execute_result"
    }
   ],
   "source": [
    "data_frame.shape#nb rows and columns"
   ]
  },
  {
   "cell_type": "code",
   "execution_count": 11,
   "id": "e1128de5",
   "metadata": {},
   "outputs": [
    {
     "name": "stdout",
     "output_type": "stream",
     "text": [
      "<class 'pandas.core.frame.DataFrame'>\n",
      "RangeIndex: 18 entries, 0 to 17\n",
      "Data columns (total 7 columns):\n",
      " #   Column      Non-Null Count  Dtype  \n",
      "---  ------      --------------  -----  \n",
      " 0   Unnamed: 0  0 non-null      float64\n",
      " 1   Name        18 non-null     object \n",
      " 2   Class       18 non-null     object \n",
      " 3   Lectures    18 non-null     object \n",
      " 4   Grades      18 non-null     int64  \n",
      " 5   Credits     18 non-null     int64  \n",
      " 6   Retake      18 non-null     object \n",
      "dtypes: float64(1), int64(2), object(4)\n",
      "memory usage: 1.1+ KB\n"
     ]
    }
   ],
   "source": [
    "data_frame.info()#index, datatype, memory info"
   ]
  },
  {
   "cell_type": "code",
   "execution_count": 12,
   "id": "be9ddb5c",
   "metadata": {},
   "outputs": [
    {
     "data": {
      "text/plain": [
       "90    6\n",
       "70    2\n",
       "77    2\n",
       "35    1\n",
       "22    1\n",
       "44    1\n",
       "99    1\n",
       "54    1\n",
       "56    1\n",
       "25    1\n",
       "45    1\n",
       "Name: Grades, dtype: int64"
      ]
     },
     "execution_count": 12,
     "metadata": {},
     "output_type": "execute_result"
    }
   ],
   "source": [
    "# see unique values and their counts\n",
    "data_frame[\"Grades\"].value_counts(dropna=False)#.sort_index(ascending=True)#to see unique values and their counts"
   ]
  },
  {
   "cell_type": "code",
   "execution_count": 13,
   "id": "c1c57975",
   "metadata": {},
   "outputs": [
    {
     "data": {
      "text/plain": [
       "Unnamed: 0          NaN\n",
       "Grades        67.444444\n",
       "Credits        5.333333\n",
       "dtype: float64"
      ]
     },
     "execution_count": 13,
     "metadata": {},
     "output_type": "execute_result"
    }
   ],
   "source": [
    "data_frame.mean()#gives means of each columns when possible"
   ]
  },
  {
   "cell_type": "code",
   "execution_count": 14,
   "id": "38a8e3b2",
   "metadata": {},
   "outputs": [
    {
     "data": {
      "text/html": [
       "<div>\n",
       "<style scoped>\n",
       "    .dataframe tbody tr th:only-of-type {\n",
       "        vertical-align: middle;\n",
       "    }\n",
       "\n",
       "    .dataframe tbody tr th {\n",
       "        vertical-align: top;\n",
       "    }\n",
       "\n",
       "    .dataframe thead th {\n",
       "        text-align: right;\n",
       "    }\n",
       "</style>\n",
       "<table border=\"1\" class=\"dataframe\">\n",
       "  <thead>\n",
       "    <tr style=\"text-align: right;\">\n",
       "      <th></th>\n",
       "      <th>Unnamed: 0</th>\n",
       "      <th>Grades</th>\n",
       "      <th>Credits</th>\n",
       "    </tr>\n",
       "  </thead>\n",
       "  <tbody>\n",
       "    <tr>\n",
       "      <th>Unnamed: 0</th>\n",
       "      <td>NaN</td>\n",
       "      <td>NaN</td>\n",
       "      <td>NaN</td>\n",
       "    </tr>\n",
       "    <tr>\n",
       "      <th>Grades</th>\n",
       "      <td>NaN</td>\n",
       "      <td>1.000000</td>\n",
       "      <td>-0.008218</td>\n",
       "    </tr>\n",
       "    <tr>\n",
       "      <th>Credits</th>\n",
       "      <td>NaN</td>\n",
       "      <td>-0.008218</td>\n",
       "      <td>1.000000</td>\n",
       "    </tr>\n",
       "  </tbody>\n",
       "</table>\n",
       "</div>"
      ],
      "text/plain": [
       "            Unnamed: 0    Grades   Credits\n",
       "Unnamed: 0         NaN       NaN       NaN\n",
       "Grades             NaN  1.000000 -0.008218\n",
       "Credits            NaN -0.008218  1.000000"
      ]
     },
     "execution_count": 14,
     "metadata": {},
     "output_type": "execute_result"
    }
   ],
   "source": [
    "data_frame.corr()# gives correlations between columns in a data frame"
   ]
  },
  {
   "cell_type": "code",
   "execution_count": 15,
   "id": "f5c398ff",
   "metadata": {},
   "outputs": [
    {
     "data": {
      "text/plain": [
       "Unnamed: 0     0\n",
       "Name          18\n",
       "Class         18\n",
       "Lectures      18\n",
       "Grades        18\n",
       "Credits       18\n",
       "Retake        18\n",
       "dtype: int64"
      ]
     },
     "execution_count": 15,
     "metadata": {},
     "output_type": "execute_result"
    }
   ],
   "source": [
    "data_frame.count()# returns the number of non-null values in each column"
   ]
  },
  {
   "cell_type": "code",
   "execution_count": 18,
   "id": "d475d372",
   "metadata": {},
   "outputs": [
    {
     "data": {
      "text/plain": [
       "Unnamed: 0        NaN\n",
       "Name             Toni\n",
       "Class               C\n",
       "Lectures      Physics\n",
       "Grades             99\n",
       "Credits             6\n",
       "Retake            Yes\n",
       "dtype: object"
      ]
     },
     "execution_count": 18,
     "metadata": {},
     "output_type": "execute_result"
    }
   ],
   "source": [
    "#highest value of each column\n",
    "data_frame.max()# also works for min(), median(), std()"
   ]
  },
  {
   "cell_type": "markdown",
   "id": "9487e234",
   "metadata": {},
   "source": [
    "### Filtering of data"
   ]
  },
  {
   "cell_type": "code",
   "execution_count": 20,
   "id": "b674c0fa",
   "metadata": {},
   "outputs": [
    {
     "data": {
      "text/plain": [
       "0    90\n",
       "1    54\n",
       "2    77\n",
       "3    22\n",
       "4    25\n",
       "Name: Grades, dtype: int64"
      ]
     },
     "execution_count": 20,
     "metadata": {},
     "output_type": "execute_result"
    }
   ],
   "source": [
    "#Select a column:\n",
    "data_frame[\"Grades\"].head()"
   ]
  },
  {
   "cell_type": "code",
   "execution_count": 19,
   "id": "585f12ef",
   "metadata": {},
   "outputs": [
    {
     "data": {
      "text/html": [
       "<div>\n",
       "<style scoped>\n",
       "    .dataframe tbody tr th:only-of-type {\n",
       "        vertical-align: middle;\n",
       "    }\n",
       "\n",
       "    .dataframe tbody tr th {\n",
       "        vertical-align: top;\n",
       "    }\n",
       "\n",
       "    .dataframe thead th {\n",
       "        text-align: right;\n",
       "    }\n",
       "</style>\n",
       "<table border=\"1\" class=\"dataframe\">\n",
       "  <thead>\n",
       "    <tr style=\"text-align: right;\">\n",
       "      <th></th>\n",
       "      <th>Grades</th>\n",
       "      <th>Credits</th>\n",
       "    </tr>\n",
       "  </thead>\n",
       "  <tbody>\n",
       "    <tr>\n",
       "      <th>0</th>\n",
       "      <td>90</td>\n",
       "      <td>6</td>\n",
       "    </tr>\n",
       "    <tr>\n",
       "      <th>1</th>\n",
       "      <td>54</td>\n",
       "      <td>6</td>\n",
       "    </tr>\n",
       "    <tr>\n",
       "      <th>2</th>\n",
       "      <td>77</td>\n",
       "      <td>6</td>\n",
       "    </tr>\n",
       "    <tr>\n",
       "      <th>3</th>\n",
       "      <td>22</td>\n",
       "      <td>5</td>\n",
       "    </tr>\n",
       "    <tr>\n",
       "      <th>4</th>\n",
       "      <td>25</td>\n",
       "      <td>5</td>\n",
       "    </tr>\n",
       "  </tbody>\n",
       "</table>\n",
       "</div>"
      ],
      "text/plain": [
       "   Grades  Credits\n",
       "0      90        6\n",
       "1      54        6\n",
       "2      77        6\n",
       "3      22        5\n",
       "4      25        5"
      ]
     },
     "execution_count": 19,
     "metadata": {},
     "output_type": "execute_result"
    }
   ],
   "source": [
    "#Return series of few columns\n",
    "data_frame[[\"Grades\", \"Credits\"]].head()"
   ]
  },
  {
   "cell_type": "code",
   "execution_count": 5,
   "id": "bdd9eab7",
   "metadata": {},
   "outputs": [
    {
     "data": {
      "text/html": [
       "<div>\n",
       "<style scoped>\n",
       "    .dataframe tbody tr th:only-of-type {\n",
       "        vertical-align: middle;\n",
       "    }\n",
       "\n",
       "    .dataframe tbody tr th {\n",
       "        vertical-align: top;\n",
       "    }\n",
       "\n",
       "    .dataframe thead th {\n",
       "        text-align: right;\n",
       "    }\n",
       "</style>\n",
       "<table border=\"1\" class=\"dataframe\">\n",
       "  <thead>\n",
       "    <tr style=\"text-align: right;\">\n",
       "      <th></th>\n",
       "      <th>Lectures</th>\n",
       "      <th>Grades</th>\n",
       "      <th>Credits</th>\n",
       "      <th>Retake</th>\n",
       "    </tr>\n",
       "  </thead>\n",
       "  <tbody>\n",
       "    <tr>\n",
       "      <th>0</th>\n",
       "      <td>Mathematics</td>\n",
       "      <td>90</td>\n",
       "      <td>6</td>\n",
       "      <td>No</td>\n",
       "    </tr>\n",
       "    <tr>\n",
       "      <th>1</th>\n",
       "      <td>Chemistry</td>\n",
       "      <td>54</td>\n",
       "      <td>6</td>\n",
       "      <td>No</td>\n",
       "    </tr>\n",
       "    <tr>\n",
       "      <th>2</th>\n",
       "      <td>Physics</td>\n",
       "      <td>77</td>\n",
       "      <td>6</td>\n",
       "      <td>No</td>\n",
       "    </tr>\n",
       "    <tr>\n",
       "      <th>3</th>\n",
       "      <td>History</td>\n",
       "      <td>22</td>\n",
       "      <td>5</td>\n",
       "      <td>Yes</td>\n",
       "    </tr>\n",
       "    <tr>\n",
       "      <th>4</th>\n",
       "      <td>Geography</td>\n",
       "      <td>25</td>\n",
       "      <td>5</td>\n",
       "      <td>Yes</td>\n",
       "    </tr>\n",
       "    <tr>\n",
       "      <th>5</th>\n",
       "      <td>German</td>\n",
       "      <td>70</td>\n",
       "      <td>4</td>\n",
       "      <td>No</td>\n",
       "    </tr>\n",
       "  </tbody>\n",
       "</table>\n",
       "</div>"
      ],
      "text/plain": [
       "      Lectures  Grades  Credits Retake\n",
       "0  Mathematics      90        6     No\n",
       "1    Chemistry      54        6     No\n",
       "2      Physics      77        6     No\n",
       "3      History      22        5    Yes\n",
       "4    Geography      25        5    Yes\n",
       "5       German      70        4     No"
      ]
     },
     "execution_count": 5,
     "metadata": {},
     "output_type": "execute_result"
    }
   ],
   "source": [
    "#Select by columns' specific value\n",
    "G= data_frame.loc[(data_frame[\"Name\"]==\"Benjamin\"), [\"Lectures\", \"Grades\", \"Credits\", \"Retake\"]]\n",
    "G #Results only for Benjamin"
   ]
  },
  {
   "cell_type": "code",
   "execution_count": 6,
   "id": "27658111",
   "metadata": {},
   "outputs": [
    {
     "data": {
      "text/plain": [
       "90"
      ]
     },
     "execution_count": 6,
     "metadata": {},
     "output_type": "execute_result"
    }
   ],
   "source": [
    "data_frame.loc[0].at[\"Grades\"]# first item of \"Grades\" in the file. Use iat for indexes."
   ]
  },
  {
   "cell_type": "code",
   "execution_count": 23,
   "id": "30c60f17",
   "metadata": {},
   "outputs": [
    {
     "data": {
      "text/plain": [
       "Unnamed: 0            NaN\n",
       "Name             Benjamin\n",
       "Class                   A\n",
       "Lectures      Mathematics\n",
       "Grades                 90\n",
       "Credits                 6\n",
       "Retake                 No\n",
       "Name: 0, dtype: object"
      ]
     },
     "execution_count": 23,
     "metadata": {},
     "output_type": "execute_result"
    }
   ],
   "source": [
    "# First row\n",
    "data_frame.iloc[0,:]# or: data_frame.loc[0]"
   ]
  },
  {
   "cell_type": "code",
   "execution_count": 24,
   "id": "c2380318",
   "metadata": {},
   "outputs": [
    {
     "data": {
      "text/plain": [
       "nan"
      ]
     },
     "execution_count": 24,
     "metadata": {},
     "output_type": "execute_result"
    }
   ],
   "source": [
    "#first element of the first column\n",
    "data_frame.iloc[0,0]"
   ]
  },
  {
   "cell_type": "code",
   "execution_count": 25,
   "id": "c50ea8ff",
   "metadata": {},
   "outputs": [
    {
     "data": {
      "text/html": [
       "<div>\n",
       "<style scoped>\n",
       "    .dataframe tbody tr th:only-of-type {\n",
       "        vertical-align: middle;\n",
       "    }\n",
       "\n",
       "    .dataframe tbody tr th {\n",
       "        vertical-align: top;\n",
       "    }\n",
       "\n",
       "    .dataframe thead th {\n",
       "        text-align: right;\n",
       "    }\n",
       "</style>\n",
       "<table border=\"1\" class=\"dataframe\">\n",
       "  <thead>\n",
       "    <tr style=\"text-align: right;\">\n",
       "      <th></th>\n",
       "      <th>Unnamed: 0</th>\n",
       "      <th>Name</th>\n",
       "      <th>Class</th>\n",
       "      <th>Lectures</th>\n",
       "      <th>Grades</th>\n",
       "      <th>Credits</th>\n",
       "      <th>Retake</th>\n",
       "    </tr>\n",
       "  </thead>\n",
       "  <tbody>\n",
       "    <tr>\n",
       "      <th>0</th>\n",
       "      <td>NaN</td>\n",
       "      <td>Benjamin</td>\n",
       "      <td>A</td>\n",
       "      <td>Mathematics</td>\n",
       "      <td>90</td>\n",
       "      <td>6</td>\n",
       "      <td>No</td>\n",
       "    </tr>\n",
       "    <tr>\n",
       "      <th>1</th>\n",
       "      <td>NaN</td>\n",
       "      <td>Benjamin</td>\n",
       "      <td>A</td>\n",
       "      <td>Chemistry</td>\n",
       "      <td>54</td>\n",
       "      <td>6</td>\n",
       "      <td>No</td>\n",
       "    </tr>\n",
       "    <tr>\n",
       "      <th>2</th>\n",
       "      <td>NaN</td>\n",
       "      <td>Benjamin</td>\n",
       "      <td>A</td>\n",
       "      <td>Physics</td>\n",
       "      <td>77</td>\n",
       "      <td>6</td>\n",
       "      <td>No</td>\n",
       "    </tr>\n",
       "    <tr>\n",
       "      <th>3</th>\n",
       "      <td>NaN</td>\n",
       "      <td>Benjamin</td>\n",
       "      <td>A</td>\n",
       "      <td>History</td>\n",
       "      <td>22</td>\n",
       "      <td>5</td>\n",
       "      <td>Yes</td>\n",
       "    </tr>\n",
       "    <tr>\n",
       "      <th>4</th>\n",
       "      <td>NaN</td>\n",
       "      <td>Benjamin</td>\n",
       "      <td>A</td>\n",
       "      <td>Geography</td>\n",
       "      <td>25</td>\n",
       "      <td>5</td>\n",
       "      <td>Yes</td>\n",
       "    </tr>\n",
       "  </tbody>\n",
       "</table>\n",
       "</div>"
      ],
      "text/plain": [
       "   Unnamed: 0      Name Class     Lectures  Grades  Credits Retake\n",
       "0         NaN  Benjamin     A  Mathematics      90        6     No\n",
       "1         NaN  Benjamin     A    Chemistry      54        6     No\n",
       "2         NaN  Benjamin     A      Physics      77        6     No\n",
       "3         NaN  Benjamin     A      History      22        5    Yes\n",
       "4         NaN  Benjamin     A    Geography      25        5    Yes"
      ]
     },
     "execution_count": 25,
     "metadata": {},
     "output_type": "execute_result"
    }
   ],
   "source": [
    "#Boolean filtering AND\n",
    "data_frame[data_frame[\"Grades\"]>50 & (data_frame[\"Name\"] == \"Benjamin\")].head()"
   ]
  },
  {
   "cell_type": "code",
   "execution_count": 26,
   "id": "25da0227",
   "metadata": {},
   "outputs": [
    {
     "data": {
      "text/html": [
       "<div>\n",
       "<style scoped>\n",
       "    .dataframe tbody tr th:only-of-type {\n",
       "        vertical-align: middle;\n",
       "    }\n",
       "\n",
       "    .dataframe tbody tr th {\n",
       "        vertical-align: top;\n",
       "    }\n",
       "\n",
       "    .dataframe thead th {\n",
       "        text-align: right;\n",
       "    }\n",
       "</style>\n",
       "<table border=\"1\" class=\"dataframe\">\n",
       "  <thead>\n",
       "    <tr style=\"text-align: right;\">\n",
       "      <th></th>\n",
       "      <th>Unnamed: 0</th>\n",
       "      <th>Name</th>\n",
       "      <th>Class</th>\n",
       "      <th>Lectures</th>\n",
       "      <th>Grades</th>\n",
       "      <th>Credits</th>\n",
       "      <th>Retake</th>\n",
       "    </tr>\n",
       "  </thead>\n",
       "  <tbody>\n",
       "    <tr>\n",
       "      <th>0</th>\n",
       "      <td>NaN</td>\n",
       "      <td>Benjamin</td>\n",
       "      <td>A</td>\n",
       "      <td>Mathematics</td>\n",
       "      <td>90</td>\n",
       "      <td>6</td>\n",
       "      <td>No</td>\n",
       "    </tr>\n",
       "    <tr>\n",
       "      <th>1</th>\n",
       "      <td>NaN</td>\n",
       "      <td>Benjamin</td>\n",
       "      <td>A</td>\n",
       "      <td>Chemistry</td>\n",
       "      <td>54</td>\n",
       "      <td>6</td>\n",
       "      <td>No</td>\n",
       "    </tr>\n",
       "    <tr>\n",
       "      <th>2</th>\n",
       "      <td>NaN</td>\n",
       "      <td>Benjamin</td>\n",
       "      <td>A</td>\n",
       "      <td>Physics</td>\n",
       "      <td>77</td>\n",
       "      <td>6</td>\n",
       "      <td>No</td>\n",
       "    </tr>\n",
       "    <tr>\n",
       "      <th>3</th>\n",
       "      <td>NaN</td>\n",
       "      <td>Benjamin</td>\n",
       "      <td>A</td>\n",
       "      <td>History</td>\n",
       "      <td>22</td>\n",
       "      <td>5</td>\n",
       "      <td>Yes</td>\n",
       "    </tr>\n",
       "    <tr>\n",
       "      <th>4</th>\n",
       "      <td>NaN</td>\n",
       "      <td>Benjamin</td>\n",
       "      <td>A</td>\n",
       "      <td>Geography</td>\n",
       "      <td>25</td>\n",
       "      <td>5</td>\n",
       "      <td>Yes</td>\n",
       "    </tr>\n",
       "  </tbody>\n",
       "</table>\n",
       "</div>"
      ],
      "text/plain": [
       "   Unnamed: 0      Name Class     Lectures  Grades  Credits Retake\n",
       "0         NaN  Benjamin     A  Mathematics      90        6     No\n",
       "1         NaN  Benjamin     A    Chemistry      54        6     No\n",
       "2         NaN  Benjamin     A      Physics      77        6     No\n",
       "3         NaN  Benjamin     A      History      22        5    Yes\n",
       "4         NaN  Benjamin     A    Geography      25        5    Yes"
      ]
     },
     "execution_count": 26,
     "metadata": {},
     "output_type": "execute_result"
    }
   ],
   "source": [
    "#Boolean filtering OR\n",
    "data_frame[data_frame[\"Grades\"]>50 | (data_frame[\"Name\"] == \"Benjamin\")].head()"
   ]
  },
  {
   "cell_type": "markdown",
   "id": "ecdcc3f3",
   "metadata": {},
   "source": [
    "#### Sort and Groupby"
   ]
  },
  {
   "cell_type": "code",
   "execution_count": 28,
   "id": "9cfec902",
   "metadata": {},
   "outputs": [
    {
     "data": {
      "text/html": [
       "<div>\n",
       "<style scoped>\n",
       "    .dataframe tbody tr th:only-of-type {\n",
       "        vertical-align: middle;\n",
       "    }\n",
       "\n",
       "    .dataframe tbody tr th {\n",
       "        vertical-align: top;\n",
       "    }\n",
       "\n",
       "    .dataframe thead th {\n",
       "        text-align: right;\n",
       "    }\n",
       "</style>\n",
       "<table border=\"1\" class=\"dataframe\">\n",
       "  <thead>\n",
       "    <tr style=\"text-align: right;\">\n",
       "      <th></th>\n",
       "      <th>Unnamed: 0</th>\n",
       "      <th>Name</th>\n",
       "      <th>Class</th>\n",
       "      <th>Lectures</th>\n",
       "      <th>Grades</th>\n",
       "      <th>Credits</th>\n",
       "      <th>Retake</th>\n",
       "    </tr>\n",
       "  </thead>\n",
       "  <tbody>\n",
       "    <tr>\n",
       "      <th>3</th>\n",
       "      <td>NaN</td>\n",
       "      <td>Benjamin</td>\n",
       "      <td>A</td>\n",
       "      <td>History</td>\n",
       "      <td>22</td>\n",
       "      <td>5</td>\n",
       "      <td>Yes</td>\n",
       "    </tr>\n",
       "    <tr>\n",
       "      <th>4</th>\n",
       "      <td>NaN</td>\n",
       "      <td>Benjamin</td>\n",
       "      <td>A</td>\n",
       "      <td>Geography</td>\n",
       "      <td>25</td>\n",
       "      <td>5</td>\n",
       "      <td>Yes</td>\n",
       "    </tr>\n",
       "    <tr>\n",
       "      <th>16</th>\n",
       "      <td>NaN</td>\n",
       "      <td>Toni</td>\n",
       "      <td>C</td>\n",
       "      <td>Geography</td>\n",
       "      <td>35</td>\n",
       "      <td>5</td>\n",
       "      <td>Yes</td>\n",
       "    </tr>\n",
       "    <tr>\n",
       "      <th>13</th>\n",
       "      <td>NaN</td>\n",
       "      <td>Toni</td>\n",
       "      <td>C</td>\n",
       "      <td>Chemistry</td>\n",
       "      <td>44</td>\n",
       "      <td>6</td>\n",
       "      <td>Yes</td>\n",
       "    </tr>\n",
       "    <tr>\n",
       "      <th>9</th>\n",
       "      <td>NaN</td>\n",
       "      <td>Safia</td>\n",
       "      <td>B</td>\n",
       "      <td>History</td>\n",
       "      <td>45</td>\n",
       "      <td>5</td>\n",
       "      <td>No</td>\n",
       "    </tr>\n",
       "  </tbody>\n",
       "</table>\n",
       "</div>"
      ],
      "text/plain": [
       "    Unnamed: 0      Name Class   Lectures  Grades  Credits Retake\n",
       "3          NaN  Benjamin     A    History      22        5    Yes\n",
       "4          NaN  Benjamin     A  Geography      25        5    Yes\n",
       "16         NaN      Toni     C  Geography      35        5    Yes\n",
       "13         NaN      Toni     C  Chemistry      44        6    Yes\n",
       "9          NaN     Safia     B    History      45        5     No"
      ]
     },
     "execution_count": 28,
     "metadata": {},
     "output_type": "execute_result"
    }
   ],
   "source": [
    "#Sorting column values in ascending order\n",
    "#Boolean filtering\n",
    "data_frame.sort_values(\"Grades\").head()# for descending order add argument \"ascending=False\""
   ]
  },
  {
   "cell_type": "code",
   "execution_count": 29,
   "id": "857fe4b2",
   "metadata": {},
   "outputs": [
    {
     "data": {
      "text/html": [
       "<div>\n",
       "<style scoped>\n",
       "    .dataframe tbody tr th:only-of-type {\n",
       "        vertical-align: middle;\n",
       "    }\n",
       "\n",
       "    .dataframe tbody tr th {\n",
       "        vertical-align: top;\n",
       "    }\n",
       "\n",
       "    .dataframe thead th {\n",
       "        text-align: right;\n",
       "    }\n",
       "</style>\n",
       "<table border=\"1\" class=\"dataframe\">\n",
       "  <thead>\n",
       "    <tr style=\"text-align: right;\">\n",
       "      <th></th>\n",
       "      <th>Unnamed: 0</th>\n",
       "      <th>Name</th>\n",
       "      <th>Class</th>\n",
       "      <th>Lectures</th>\n",
       "      <th>Grades</th>\n",
       "      <th>Credits</th>\n",
       "      <th>Retake</th>\n",
       "    </tr>\n",
       "  </thead>\n",
       "  <tbody>\n",
       "    <tr>\n",
       "      <th>3</th>\n",
       "      <td>NaN</td>\n",
       "      <td>Benjamin</td>\n",
       "      <td>A</td>\n",
       "      <td>History</td>\n",
       "      <td>22</td>\n",
       "      <td>5</td>\n",
       "      <td>Yes</td>\n",
       "    </tr>\n",
       "    <tr>\n",
       "      <th>4</th>\n",
       "      <td>NaN</td>\n",
       "      <td>Benjamin</td>\n",
       "      <td>A</td>\n",
       "      <td>Geography</td>\n",
       "      <td>25</td>\n",
       "      <td>5</td>\n",
       "      <td>Yes</td>\n",
       "    </tr>\n",
       "    <tr>\n",
       "      <th>16</th>\n",
       "      <td>NaN</td>\n",
       "      <td>Toni</td>\n",
       "      <td>C</td>\n",
       "      <td>Geography</td>\n",
       "      <td>35</td>\n",
       "      <td>5</td>\n",
       "      <td>Yes</td>\n",
       "    </tr>\n",
       "    <tr>\n",
       "      <th>13</th>\n",
       "      <td>NaN</td>\n",
       "      <td>Toni</td>\n",
       "      <td>C</td>\n",
       "      <td>Chemistry</td>\n",
       "      <td>44</td>\n",
       "      <td>6</td>\n",
       "      <td>Yes</td>\n",
       "    </tr>\n",
       "    <tr>\n",
       "      <th>9</th>\n",
       "      <td>NaN</td>\n",
       "      <td>Safia</td>\n",
       "      <td>B</td>\n",
       "      <td>History</td>\n",
       "      <td>45</td>\n",
       "      <td>5</td>\n",
       "      <td>No</td>\n",
       "    </tr>\n",
       "  </tbody>\n",
       "</table>\n",
       "</div>"
      ],
      "text/plain": [
       "    Unnamed: 0      Name Class   Lectures  Grades  Credits Retake\n",
       "3          NaN  Benjamin     A    History      22        5    Yes\n",
       "4          NaN  Benjamin     A  Geography      25        5    Yes\n",
       "16         NaN      Toni     C  Geography      35        5    Yes\n",
       "13         NaN      Toni     C  Chemistry      44        6    Yes\n",
       "9          NaN     Safia     B    History      45        5     No"
      ]
     },
     "execution_count": 29,
     "metadata": {},
     "output_type": "execute_result"
    }
   ],
   "source": [
    "data_frame.sort_values([\"Grades\", \"Credits\"], ascending= [True, False]).head()"
   ]
  },
  {
   "cell_type": "code",
   "execution_count": 30,
   "id": "02d67856",
   "metadata": {},
   "outputs": [
    {
     "data": {
      "text/html": [
       "<div>\n",
       "<style scoped>\n",
       "    .dataframe tbody tr th:only-of-type {\n",
       "        vertical-align: middle;\n",
       "    }\n",
       "\n",
       "    .dataframe tbody tr th {\n",
       "        vertical-align: top;\n",
       "    }\n",
       "\n",
       "    .dataframe thead th {\n",
       "        text-align: right;\n",
       "    }\n",
       "</style>\n",
       "<table border=\"1\" class=\"dataframe\">\n",
       "  <thead>\n",
       "    <tr style=\"text-align: right;\">\n",
       "      <th></th>\n",
       "      <th>Name</th>\n",
       "      <th>Unnamed: 0</th>\n",
       "      <th>Grades</th>\n",
       "      <th>Credits</th>\n",
       "    </tr>\n",
       "  </thead>\n",
       "  <tbody>\n",
       "    <tr>\n",
       "      <th>0</th>\n",
       "      <td>Benjamin</td>\n",
       "      <td>NaN</td>\n",
       "      <td>56.333333</td>\n",
       "      <td>5.333333</td>\n",
       "    </tr>\n",
       "    <tr>\n",
       "      <th>1</th>\n",
       "      <td>Safia</td>\n",
       "      <td>NaN</td>\n",
       "      <td>82.500000</td>\n",
       "      <td>5.333333</td>\n",
       "    </tr>\n",
       "    <tr>\n",
       "      <th>2</th>\n",
       "      <td>Toni</td>\n",
       "      <td>NaN</td>\n",
       "      <td>63.500000</td>\n",
       "      <td>5.333333</td>\n",
       "    </tr>\n",
       "  </tbody>\n",
       "</table>\n",
       "</div>"
      ],
      "text/plain": [
       "       Name  Unnamed: 0     Grades   Credits\n",
       "0  Benjamin         NaN  56.333333  5.333333\n",
       "1     Safia         NaN  82.500000  5.333333\n",
       "2      Toni         NaN  63.500000  5.333333"
      ]
     },
     "execution_count": 30,
     "metadata": {},
     "output_type": "execute_result"
    }
   ],
   "source": [
    "# Group by for values from one column\n",
    "data_frame.groupby(\"Name\", as_index=False).mean() #mean of grades and credits for each student"
   ]
  },
  {
   "cell_type": "code",
   "execution_count": 31,
   "id": "65b8d9c6",
   "metadata": {},
   "outputs": [
    {
     "data": {
      "text/html": [
       "<div>\n",
       "<style scoped>\n",
       "    .dataframe tbody tr th:only-of-type {\n",
       "        vertical-align: middle;\n",
       "    }\n",
       "\n",
       "    .dataframe tbody tr th {\n",
       "        vertical-align: top;\n",
       "    }\n",
       "\n",
       "    .dataframe thead th {\n",
       "        text-align: right;\n",
       "    }\n",
       "</style>\n",
       "<table border=\"1\" class=\"dataframe\">\n",
       "  <thead>\n",
       "    <tr style=\"text-align: right;\">\n",
       "      <th></th>\n",
       "      <th>Name</th>\n",
       "      <th>Credits</th>\n",
       "      <th>Unnamed: 0</th>\n",
       "      <th>Grades</th>\n",
       "    </tr>\n",
       "  </thead>\n",
       "  <tbody>\n",
       "    <tr>\n",
       "      <th>0</th>\n",
       "      <td>Benjamin</td>\n",
       "      <td>4</td>\n",
       "      <td>NaN</td>\n",
       "      <td>70.000000</td>\n",
       "    </tr>\n",
       "    <tr>\n",
       "      <th>1</th>\n",
       "      <td>Benjamin</td>\n",
       "      <td>5</td>\n",
       "      <td>NaN</td>\n",
       "      <td>23.500000</td>\n",
       "    </tr>\n",
       "    <tr>\n",
       "      <th>2</th>\n",
       "      <td>Benjamin</td>\n",
       "      <td>6</td>\n",
       "      <td>NaN</td>\n",
       "      <td>73.666667</td>\n",
       "    </tr>\n",
       "    <tr>\n",
       "      <th>3</th>\n",
       "      <td>Safia</td>\n",
       "      <td>4</td>\n",
       "      <td>NaN</td>\n",
       "      <td>90.000000</td>\n",
       "    </tr>\n",
       "    <tr>\n",
       "      <th>4</th>\n",
       "      <td>Safia</td>\n",
       "      <td>5</td>\n",
       "      <td>NaN</td>\n",
       "      <td>67.500000</td>\n",
       "    </tr>\n",
       "  </tbody>\n",
       "</table>\n",
       "</div>"
      ],
      "text/plain": [
       "       Name  Credits  Unnamed: 0     Grades\n",
       "0  Benjamin        4         NaN  70.000000\n",
       "1  Benjamin        5         NaN  23.500000\n",
       "2  Benjamin        6         NaN  73.666667\n",
       "3     Safia        4         NaN  90.000000\n",
       "4     Safia        5         NaN  67.500000"
      ]
     },
     "execution_count": 31,
     "metadata": {},
     "output_type": "execute_result"
    }
   ],
   "source": [
    "#groupby object for values from multiple columns\n",
    "data_frame.groupby([\"Name\",\"Credits\"], as_index=False).mean().head()"
   ]
  },
  {
   "cell_type": "markdown",
   "id": "4560f7c0",
   "metadata": {},
   "source": [
    "#### Join/combine"
   ]
  },
  {
   "cell_type": "code",
   "execution_count": 32,
   "id": "541c5426",
   "metadata": {},
   "outputs": [],
   "source": [
    "#Creating a dataframe\n",
    "classes= pd.Series([\"Mathematics\", \"Chemistry\", \"Physics\", \"History\", \"Geography\", \"German\"])\n",
    "classes2= pd.Series([\"Mathematics\", \"Chemistry\", \"Physics\", \"History\", \"Geography\", \"German\"])\n",
    "\n",
    "grades= pd.Series([90,54,77,22,25])"
   ]
  },
  {
   "cell_type": "code",
   "execution_count": 33,
   "id": "092866ec",
   "metadata": {},
   "outputs": [
    {
     "data": {
      "text/plain": [
       "0    Mathematics\n",
       "1      Chemistry\n",
       "2        Physics\n",
       "3        History\n",
       "4      Geography\n",
       "5         German\n",
       "0             90\n",
       "1             54\n",
       "2             77\n",
       "3             22\n",
       "4             25\n",
       "dtype: object"
      ]
     },
     "execution_count": 33,
     "metadata": {},
     "output_type": "execute_result"
    }
   ],
   "source": [
    "#add the rows in df1 to the end of df2\n",
    "classes.append(grades)"
   ]
  },
  {
   "cell_type": "code",
   "execution_count": 34,
   "id": "b6eb9306",
   "metadata": {},
   "outputs": [
    {
     "data": {
      "text/plain": [
       "0    Mathematics\n",
       "1      Chemistry\n",
       "2        Physics\n",
       "3        History\n",
       "4      Geography\n",
       "5         German\n",
       "0             90\n",
       "1             54\n",
       "2             77\n",
       "3             22\n",
       "4             25\n",
       "dtype: object"
      ]
     },
     "execution_count": 34,
     "metadata": {},
     "output_type": "execute_result"
    }
   ],
   "source": [
    "#add the rows in df1 to the end of df2\n",
    "from pandas import concat\n",
    "concat([classes, grades],axis=0) "
   ]
  },
  {
   "cell_type": "code",
   "execution_count": 35,
   "id": "736d483b",
   "metadata": {},
   "outputs": [
    {
     "data": {
      "text/html": [
       "<div>\n",
       "<style scoped>\n",
       "    .dataframe tbody tr th:only-of-type {\n",
       "        vertical-align: middle;\n",
       "    }\n",
       "\n",
       "    .dataframe tbody tr th {\n",
       "        vertical-align: top;\n",
       "    }\n",
       "\n",
       "    .dataframe thead th {\n",
       "        text-align: right;\n",
       "    }\n",
       "</style>\n",
       "<table border=\"1\" class=\"dataframe\">\n",
       "  <thead>\n",
       "    <tr style=\"text-align: right;\">\n",
       "      <th></th>\n",
       "      <th>0</th>\n",
       "      <th>1</th>\n",
       "    </tr>\n",
       "  </thead>\n",
       "  <tbody>\n",
       "    <tr>\n",
       "      <th>0</th>\n",
       "      <td>Mathematics</td>\n",
       "      <td>90.0</td>\n",
       "    </tr>\n",
       "    <tr>\n",
       "      <th>1</th>\n",
       "      <td>Chemistry</td>\n",
       "      <td>54.0</td>\n",
       "    </tr>\n",
       "    <tr>\n",
       "      <th>2</th>\n",
       "      <td>Physics</td>\n",
       "      <td>77.0</td>\n",
       "    </tr>\n",
       "    <tr>\n",
       "      <th>3</th>\n",
       "      <td>History</td>\n",
       "      <td>22.0</td>\n",
       "    </tr>\n",
       "    <tr>\n",
       "      <th>4</th>\n",
       "      <td>Geography</td>\n",
       "      <td>25.0</td>\n",
       "    </tr>\n",
       "    <tr>\n",
       "      <th>5</th>\n",
       "      <td>German</td>\n",
       "      <td>NaN</td>\n",
       "    </tr>\n",
       "  </tbody>\n",
       "</table>\n",
       "</div>"
      ],
      "text/plain": [
       "             0     1\n",
       "0  Mathematics  90.0\n",
       "1    Chemistry  54.0\n",
       "2      Physics  77.0\n",
       "3      History  22.0\n",
       "4    Geography  25.0\n",
       "5       German   NaN"
      ]
     },
     "execution_count": 35,
     "metadata": {},
     "output_type": "execute_result"
    }
   ],
   "source": [
    "#add the columns in df1 next to df2\n",
    "from pandas import concat\n",
    "concat([classes, grades],axis=1) "
   ]
  },
  {
   "cell_type": "markdown",
   "id": "f7403b9e",
   "metadata": {},
   "source": [
    "### Creation of new column"
   ]
  },
  {
   "cell_type": "code",
   "execution_count": 36,
   "id": "67cfba5e",
   "metadata": {},
   "outputs": [
    {
     "data": {
      "text/plain": [
       "Credits      96\n",
       "Grades     1214\n",
       "dtype: int64"
      ]
     },
     "execution_count": 36,
     "metadata": {},
     "output_type": "execute_result"
    }
   ],
   "source": [
    "# Reduction operation\n",
    "import numpy as np\n",
    "\n",
    "credits = data_frame[[\"Credits\",\"Grades\"]]\n",
    "\n",
    "credits.apply(np.sum)"
   ]
  },
  {
   "cell_type": "code",
   "execution_count": 37,
   "id": "2601becb",
   "metadata": {},
   "outputs": [],
   "source": [
    "# Creation of a column\n",
    "data_frame[\"Name\"] = data_frame[\"Grades\"].apply(lambda val: \"Benjamin\" if val < 45 else \"Lise\")"
   ]
  },
  {
   "cell_type": "markdown",
   "id": "d934af10",
   "metadata": {},
   "source": [
    "# Normalize"
   ]
  },
  {
   "cell_type": "code",
   "execution_count": 39,
   "id": "85bda1ba",
   "metadata": {},
   "outputs": [],
   "source": [
    "# Normalize results with scikit learn\n",
    "import sklearn\n",
    "from sklearn.preprocessing import StandardScaler\n",
    "scaled_features = StandardScaler().fit_transform(data_frame[\"Grades\"].values.reshape(-1, 1))"
   ]
  },
  {
   "cell_type": "markdown",
   "id": "b320318e",
   "metadata": {},
   "source": [
    "# One hot encoding of y"
   ]
  },
  {
   "cell_type": "code",
   "execution_count": 40,
   "id": "d424ef28",
   "metadata": {},
   "outputs": [
    {
     "name": "stdout",
     "output_type": "stream",
     "text": [
      "   Name_Benjamin  Name_Lise\n",
      "0              0          1\n",
      "1              0          1\n",
      "2              0          1\n",
      "3              1          0\n",
      "4              1          0\n"
     ]
    }
   ],
   "source": [
    "# creation of one hot, dummies\n",
    "dummies=pd.get_dummies(data_frame[\"Name\"], prefix=\"Name\")\n",
    "print(dummies.head())"
   ]
  },
  {
   "cell_type": "markdown",
   "id": "c80e0836",
   "metadata": {},
   "source": [
    "# Numpy"
   ]
  },
  {
   "cell_type": "code",
   "execution_count": 42,
   "id": "a7ab949a",
   "metadata": {},
   "outputs": [
    {
     "data": {
      "text/plain": [
       "numpy.ndarray"
      ]
     },
     "execution_count": 42,
     "metadata": {},
     "output_type": "execute_result"
    }
   ],
   "source": [
    "# convert dataframe to numpy\n",
    "matrix_np=data_frame.to_numpy()\n",
    "type(matrix_np)"
   ]
  },
  {
   "cell_type": "code",
   "execution_count": null,
   "id": "cfcf63d8",
   "metadata": {},
   "outputs": [],
   "source": [
    "#Convert numpy array back to dataframe\n",
    "y_pred2 = pd.DataFrame(y_pred, columns = ['Predictions'])"
   ]
  },
  {
   "cell_type": "markdown",
   "id": "f2540112",
   "metadata": {},
   "source": [
    "Creation of matrices"
   ]
  },
  {
   "cell_type": "code",
   "execution_count": 43,
   "id": "dd035461",
   "metadata": {},
   "outputs": [
    {
     "data": {
      "text/plain": [
       "array([[1, 2, 3],\n",
       "       [4, 5, 6]], dtype=uint64)"
      ]
     },
     "execution_count": 43,
     "metadata": {},
     "output_type": "execute_result"
    }
   ],
   "source": [
    "np.array([[1,2,3],[4,5,6]], dtype=np.uint64)"
   ]
  },
  {
   "cell_type": "code",
   "execution_count": 44,
   "id": "1e0ec3eb",
   "metadata": {},
   "outputs": [
    {
     "data": {
      "text/plain": [
       "array([1, 2, 3, 4])"
      ]
     },
     "execution_count": 44,
     "metadata": {},
     "output_type": "execute_result"
    }
   ],
   "source": [
    "np.arange(1,5)# ou pn.arange(1,3,0.5): start, stop, step"
   ]
  },
  {
   "cell_type": "code",
   "execution_count": 45,
   "id": "616902b2",
   "metadata": {},
   "outputs": [
    {
     "data": {
      "text/plain": [
       "array([ 1.        ,  1.18367347,  1.36734694,  1.55102041,  1.73469388,\n",
       "        1.91836735,  2.10204082,  2.28571429,  2.46938776,  2.65306122,\n",
       "        2.83673469,  3.02040816,  3.20408163,  3.3877551 ,  3.57142857,\n",
       "        3.75510204,  3.93877551,  4.12244898,  4.30612245,  4.48979592,\n",
       "        4.67346939,  4.85714286,  5.04081633,  5.2244898 ,  5.40816327,\n",
       "        5.59183673,  5.7755102 ,  5.95918367,  6.14285714,  6.32653061,\n",
       "        6.51020408,  6.69387755,  6.87755102,  7.06122449,  7.24489796,\n",
       "        7.42857143,  7.6122449 ,  7.79591837,  7.97959184,  8.16326531,\n",
       "        8.34693878,  8.53061224,  8.71428571,  8.89795918,  9.08163265,\n",
       "        9.26530612,  9.44897959,  9.63265306,  9.81632653, 10.        ])"
      ]
     },
     "execution_count": 45,
     "metadata": {},
     "output_type": "execute_result"
    }
   ],
   "source": [
    "np.linspace(1,10)#start, stop, num (nombre de valeurs souhaitées)"
   ]
  },
  {
   "cell_type": "code",
   "execution_count": 46,
   "id": "f62e4360",
   "metadata": {},
   "outputs": [
    {
     "name": "stdout",
     "output_type": "stream",
     "text": [
      "[[0 0 0]\n",
      " [0 0 0]]\n",
      "[[1 1 1]\n",
      " [1 1 1]]\n",
      "[[-1 -1 -1]\n",
      " [-1 -1 -1]]\n"
     ]
    }
   ],
   "source": [
    "print(np.zeros((2,3), dtype=int))\n",
    "print(np.ones((2,3), dtype=int))\n",
    "print(np.full((2,3),-1, dtype=int))"
   ]
  },
  {
   "cell_type": "code",
   "execution_count": 47,
   "id": "48bc6b47",
   "metadata": {},
   "outputs": [
    {
     "name": "stdout",
     "output_type": "stream",
     "text": [
      "[[0.92928397 0.00521705 0.66550568]\n",
      " [0.8592787  0.68521246 0.0077527 ]]\n"
     ]
    }
   ],
   "source": [
    "# Distribution uniforme:\n",
    "c=np.random.rand(2,3)\n",
    "print(c)"
   ]
  },
  {
   "cell_type": "markdown",
   "id": "a4151263",
   "metadata": {},
   "source": [
    "Reshape and transpose"
   ]
  },
  {
   "cell_type": "code",
   "execution_count": 48,
   "id": "3923f896",
   "metadata": {},
   "outputs": [
    {
     "name": "stdout",
     "output_type": "stream",
     "text": [
      "[0 0 0 0 0 0]\n",
      "[[0 0 0]\n",
      " [0 0 0]]\n"
     ]
    }
   ],
   "source": [
    "a= np.zeros(6, dtype=int)\n",
    "b=a.reshape(2,3)\n",
    "print(a)\n",
    "print(b)"
   ]
  },
  {
   "cell_type": "code",
   "execution_count": 49,
   "id": "b12e1ee1",
   "metadata": {},
   "outputs": [
    {
     "data": {
      "text/plain": [
       "array([[0.92928397, 0.8592787 ],\n",
       "       [0.00521705, 0.68521246],\n",
       "       [0.66550568, 0.0077527 ]])"
      ]
     },
     "execution_count": 49,
     "metadata": {},
     "output_type": "execute_result"
    }
   ],
   "source": [
    "c.T"
   ]
  },
  {
   "cell_type": "markdown",
   "id": "be10aeb5",
   "metadata": {},
   "source": [
    "Indexing and slicing"
   ]
  },
  {
   "cell_type": "code",
   "execution_count": 51,
   "id": "36860bed",
   "metadata": {},
   "outputs": [
    {
     "data": {
      "text/plain": [
       "array([[0.8592787 , 0.68521246, 0.0077527 ],\n",
       "       [0.92928397, 0.00521705, 0.66550568]])"
      ]
     },
     "execution_count": 51,
     "metadata": {},
     "output_type": "execute_result"
    }
   ],
   "source": [
    "# Converting the matrix in the other way around\n",
    "c[::-1]"
   ]
  },
  {
   "cell_type": "code",
   "execution_count": 52,
   "id": "1aac08ed",
   "metadata": {},
   "outputs": [
    {
     "name": "stdout",
     "output_type": "stream",
     "text": [
      "[[1 2 3]\n",
      " [4 5 6]]\n",
      "[1 2 3 4 5 6]\n"
     ]
    }
   ],
   "source": [
    "h= np.array([[1,2,3],[4,5,6]])\n",
    "i=np.ravel(h)# make vector\n",
    "print(h)\n",
    "print(i)"
   ]
  },
  {
   "cell_type": "markdown",
   "id": "5c4205e9",
   "metadata": {},
   "source": [
    "vstack, hstack"
   ]
  },
  {
   "cell_type": "code",
   "execution_count": 53,
   "id": "8b17af25",
   "metadata": {},
   "outputs": [
    {
     "data": {
      "text/plain": [
       "array([[9.29283967e-01, 5.21705121e-03, 6.65505681e-01],\n",
       "       [8.59278699e-01, 6.85212456e-01, 7.75270180e-03],\n",
       "       [1.00000000e+00, 2.00000000e+00, 3.00000000e+00],\n",
       "       [4.00000000e+00, 5.00000000e+00, 6.00000000e+00]])"
      ]
     },
     "execution_count": 53,
     "metadata": {},
     "output_type": "execute_result"
    }
   ],
   "source": [
    "np.vstack((c,h)) #stick vertically (arrays have to have same dimensions)"
   ]
  },
  {
   "cell_type": "code",
   "execution_count": 54,
   "id": "44151efd",
   "metadata": {},
   "outputs": [
    {
     "data": {
      "text/plain": [
       "array([[9.29283967e-01, 5.21705121e-03, 6.65505681e-01, 1.00000000e+00,\n",
       "        2.00000000e+00, 3.00000000e+00],\n",
       "       [8.59278699e-01, 6.85212456e-01, 7.75270180e-03, 4.00000000e+00,\n",
       "        5.00000000e+00, 6.00000000e+00]])"
      ]
     },
     "execution_count": 54,
     "metadata": {},
     "output_type": "execute_result"
    }
   ],
   "source": [
    "np.hstack((c,h)) #stick vertically (arrays have to have same dimensions)"
   ]
  },
  {
   "cell_type": "markdown",
   "id": "e2478588",
   "metadata": {},
   "source": [
    "Split"
   ]
  },
  {
   "cell_type": "code",
   "execution_count": 55,
   "id": "b54ac5bf",
   "metadata": {},
   "outputs": [
    {
     "data": {
      "text/plain": [
       "[array([[1],\n",
       "        [4]]),\n",
       " array([[2],\n",
       "        [5]]),\n",
       " array([[3],\n",
       "        [6]])]"
      ]
     },
     "execution_count": 55,
     "metadata": {},
     "output_type": "execute_result"
    }
   ],
   "source": [
    "np.split(h,3,axis=1)"
   ]
  }
 ],
 "metadata": {
  "kernelspec": {
   "display_name": "Python 3",
   "language": "python",
   "name": "python3"
  },
  "language_info": {
   "codemirror_mode": {
    "name": "ipython",
    "version": 3
   },
   "file_extension": ".py",
   "mimetype": "text/x-python",
   "name": "python",
   "nbconvert_exporter": "python",
   "pygments_lexer": "ipython3",
   "version": "3.8.8"
  }
 },
 "nbformat": 4,
 "nbformat_minor": 5
}
